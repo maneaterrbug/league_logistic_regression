{
 "cells": [
  {
   "cell_type": "code",
   "execution_count": 71,
   "id": "90f327a4",
   "metadata": {},
   "outputs": [],
   "source": [
    "import pandas as pd\n",
    "import numpy as np\n",
    "\n",
    "import matplotlib.pyplot as plt\n",
    "import seaborn as sns\n",
    "plt.style.use('fivethirtyeight')\n",
    "\n",
    "from sklearn.linear_model import LogisticRegression\n",
    "from sklearn.model_selection import train_test_split\n",
    "from sklearn.metrics import precision_score, recall_score, accuracy_score, roc_auc_score\n",
    "from sklearn.metrics import confusion_matrix, plot_confusion_matrix\n",
    "from sklearn.preprocessing import StandardScaler"
   ]
  },
  {
   "cell_type": "markdown",
   "id": "3d2566ce",
   "metadata": {},
   "source": [
    "## EDA"
   ]
  },
  {
   "cell_type": "code",
   "execution_count": 63,
   "id": "ac1cda5c",
   "metadata": {},
   "outputs": [
    {
     "data": {
      "text/html": [
       "<div>\n",
       "<style scoped>\n",
       "    .dataframe tbody tr th:only-of-type {\n",
       "        vertical-align: middle;\n",
       "    }\n",
       "\n",
       "    .dataframe tbody tr th {\n",
       "        vertical-align: top;\n",
       "    }\n",
       "\n",
       "    .dataframe thead th {\n",
       "        text-align: right;\n",
       "    }\n",
       "</style>\n",
       "<table border=\"1\" class=\"dataframe\">\n",
       "  <thead>\n",
       "    <tr style=\"text-align: right;\">\n",
       "      <th></th>\n",
       "      <th>gameid</th>\n",
       "      <th>datacompleteness</th>\n",
       "      <th>url</th>\n",
       "      <th>league</th>\n",
       "      <th>year</th>\n",
       "      <th>split</th>\n",
       "      <th>playoffs</th>\n",
       "      <th>date</th>\n",
       "      <th>game</th>\n",
       "      <th>patch</th>\n",
       "      <th>...</th>\n",
       "      <th>opp_csat15</th>\n",
       "      <th>golddiffat15</th>\n",
       "      <th>xpdiffat15</th>\n",
       "      <th>csdiffat15</th>\n",
       "      <th>killsat15</th>\n",
       "      <th>assistsat15</th>\n",
       "      <th>deathsat15</th>\n",
       "      <th>opp_killsat15</th>\n",
       "      <th>opp_assistsat15</th>\n",
       "      <th>opp_deathsat15</th>\n",
       "    </tr>\n",
       "  </thead>\n",
       "  <tbody>\n",
       "    <tr>\n",
       "      <th>0</th>\n",
       "      <td>ESPORTSTMNT03/1632489</td>\n",
       "      <td>complete</td>\n",
       "      <td>http://matchhistory.na.leagueoflegends.com/en/...</td>\n",
       "      <td>KeSPA</td>\n",
       "      <td>2021</td>\n",
       "      <td>NaN</td>\n",
       "      <td>0</td>\n",
       "      <td>2021-01-02 07:40:39</td>\n",
       "      <td>1</td>\n",
       "      <td>10.25</td>\n",
       "      <td>...</td>\n",
       "      <td>118.0</td>\n",
       "      <td>748.0</td>\n",
       "      <td>-56.0</td>\n",
       "      <td>-4.0</td>\n",
       "      <td>2.0</td>\n",
       "      <td>0.0</td>\n",
       "      <td>1.0</td>\n",
       "      <td>0.0</td>\n",
       "      <td>1.0</td>\n",
       "      <td>1.0</td>\n",
       "    </tr>\n",
       "    <tr>\n",
       "      <th>1</th>\n",
       "      <td>ESPORTSTMNT03/1632489</td>\n",
       "      <td>complete</td>\n",
       "      <td>http://matchhistory.na.leagueoflegends.com/en/...</td>\n",
       "      <td>KeSPA</td>\n",
       "      <td>2021</td>\n",
       "      <td>NaN</td>\n",
       "      <td>0</td>\n",
       "      <td>2021-01-02 07:40:39</td>\n",
       "      <td>1</td>\n",
       "      <td>10.25</td>\n",
       "      <td>...</td>\n",
       "      <td>84.0</td>\n",
       "      <td>2120.0</td>\n",
       "      <td>3405.0</td>\n",
       "      <td>62.0</td>\n",
       "      <td>3.0</td>\n",
       "      <td>2.0</td>\n",
       "      <td>0.0</td>\n",
       "      <td>2.0</td>\n",
       "      <td>0.0</td>\n",
       "      <td>3.0</td>\n",
       "    </tr>\n",
       "    <tr>\n",
       "      <th>2</th>\n",
       "      <td>ESPORTSTMNT03/1632489</td>\n",
       "      <td>complete</td>\n",
       "      <td>http://matchhistory.na.leagueoflegends.com/en/...</td>\n",
       "      <td>KeSPA</td>\n",
       "      <td>2021</td>\n",
       "      <td>NaN</td>\n",
       "      <td>0</td>\n",
       "      <td>2021-01-02 07:40:39</td>\n",
       "      <td>1</td>\n",
       "      <td>10.25</td>\n",
       "      <td>...</td>\n",
       "      <td>143.0</td>\n",
       "      <td>1578.0</td>\n",
       "      <td>354.0</td>\n",
       "      <td>15.0</td>\n",
       "      <td>2.0</td>\n",
       "      <td>3.0</td>\n",
       "      <td>0.0</td>\n",
       "      <td>0.0</td>\n",
       "      <td>0.0</td>\n",
       "      <td>0.0</td>\n",
       "    </tr>\n",
       "    <tr>\n",
       "      <th>3</th>\n",
       "      <td>ESPORTSTMNT03/1632489</td>\n",
       "      <td>complete</td>\n",
       "      <td>http://matchhistory.na.leagueoflegends.com/en/...</td>\n",
       "      <td>KeSPA</td>\n",
       "      <td>2021</td>\n",
       "      <td>NaN</td>\n",
       "      <td>0</td>\n",
       "      <td>2021-01-02 07:40:39</td>\n",
       "      <td>1</td>\n",
       "      <td>10.25</td>\n",
       "      <td>...</td>\n",
       "      <td>120.0</td>\n",
       "      <td>124.0</td>\n",
       "      <td>102.0</td>\n",
       "      <td>10.0</td>\n",
       "      <td>0.0</td>\n",
       "      <td>4.0</td>\n",
       "      <td>2.0</td>\n",
       "      <td>1.0</td>\n",
       "      <td>1.0</td>\n",
       "      <td>2.0</td>\n",
       "    </tr>\n",
       "    <tr>\n",
       "      <th>4</th>\n",
       "      <td>ESPORTSTMNT03/1632489</td>\n",
       "      <td>complete</td>\n",
       "      <td>http://matchhistory.na.leagueoflegends.com/en/...</td>\n",
       "      <td>KeSPA</td>\n",
       "      <td>2021</td>\n",
       "      <td>NaN</td>\n",
       "      <td>0</td>\n",
       "      <td>2021-01-02 07:40:39</td>\n",
       "      <td>1</td>\n",
       "      <td>10.25</td>\n",
       "      <td>...</td>\n",
       "      <td>25.0</td>\n",
       "      <td>448.0</td>\n",
       "      <td>450.0</td>\n",
       "      <td>3.0</td>\n",
       "      <td>1.0</td>\n",
       "      <td>4.0</td>\n",
       "      <td>0.0</td>\n",
       "      <td>0.0</td>\n",
       "      <td>2.0</td>\n",
       "      <td>2.0</td>\n",
       "    </tr>\n",
       "  </tbody>\n",
       "</table>\n",
       "<p>5 rows × 119 columns</p>\n",
       "</div>"
      ],
      "text/plain": [
       "                  gameid datacompleteness  \\\n",
       "0  ESPORTSTMNT03/1632489         complete   \n",
       "1  ESPORTSTMNT03/1632489         complete   \n",
       "2  ESPORTSTMNT03/1632489         complete   \n",
       "3  ESPORTSTMNT03/1632489         complete   \n",
       "4  ESPORTSTMNT03/1632489         complete   \n",
       "\n",
       "                                                 url league  year split  \\\n",
       "0  http://matchhistory.na.leagueoflegends.com/en/...  KeSPA  2021   NaN   \n",
       "1  http://matchhistory.na.leagueoflegends.com/en/...  KeSPA  2021   NaN   \n",
       "2  http://matchhistory.na.leagueoflegends.com/en/...  KeSPA  2021   NaN   \n",
       "3  http://matchhistory.na.leagueoflegends.com/en/...  KeSPA  2021   NaN   \n",
       "4  http://matchhistory.na.leagueoflegends.com/en/...  KeSPA  2021   NaN   \n",
       "\n",
       "   playoffs                 date  game  patch  ...  opp_csat15 golddiffat15  \\\n",
       "0         0  2021-01-02 07:40:39     1  10.25  ...       118.0        748.0   \n",
       "1         0  2021-01-02 07:40:39     1  10.25  ...        84.0       2120.0   \n",
       "2         0  2021-01-02 07:40:39     1  10.25  ...       143.0       1578.0   \n",
       "3         0  2021-01-02 07:40:39     1  10.25  ...       120.0        124.0   \n",
       "4         0  2021-01-02 07:40:39     1  10.25  ...        25.0        448.0   \n",
       "\n",
       "  xpdiffat15 csdiffat15 killsat15 assistsat15 deathsat15 opp_killsat15  \\\n",
       "0      -56.0       -4.0       2.0         0.0        1.0           0.0   \n",
       "1     3405.0       62.0       3.0         2.0        0.0           2.0   \n",
       "2      354.0       15.0       2.0         3.0        0.0           0.0   \n",
       "3      102.0       10.0       0.0         4.0        2.0           1.0   \n",
       "4      450.0        3.0       1.0         4.0        0.0           0.0   \n",
       "\n",
       "  opp_assistsat15 opp_deathsat15  \n",
       "0             1.0            1.0  \n",
       "1             0.0            3.0  \n",
       "2             0.0            0.0  \n",
       "3             1.0            2.0  \n",
       "4             2.0            2.0  \n",
       "\n",
       "[5 rows x 119 columns]"
      ]
     },
     "execution_count": 63,
     "metadata": {},
     "output_type": "execute_result"
    }
   ],
   "source": [
    "df = pd.read_csv('../2021_matches.csv')\n",
    "df.head()"
   ]
  },
  {
   "cell_type": "markdown",
   "id": "a1f76f25",
   "metadata": {},
   "source": [
    "### Added death_adj field to prevent divide by zero issues for KDA calc"
   ]
  },
  {
   "cell_type": "code",
   "execution_count": 3,
   "id": "aa50d574",
   "metadata": {},
   "outputs": [],
   "source": [
    "df['death_adj'] =  df.deaths.map(lambda x: 1 if x==0 else x)\n",
    "df['kda'] = (df.kills + df.assists)/df.death_adj"
   ]
  },
  {
   "cell_type": "markdown",
   "id": "5e4c2c56",
   "metadata": {},
   "source": [
    "## Converted 'side' field to a 1/0"
   ]
  },
  {
   "cell_type": "code",
   "execution_count": 4,
   "id": "8d453db1",
   "metadata": {},
   "outputs": [],
   "source": [
    "df['side_bool'] = df.side.map(lambda x: 1 if x == 'Blue' else 0)"
   ]
  },
  {
   "cell_type": "markdown",
   "id": "5261feca",
   "metadata": {},
   "source": [
    "### Creating KDA by position fields"
   ]
  },
  {
   "cell_type": "code",
   "execution_count": 5,
   "id": "4fbdaddb",
   "metadata": {},
   "outputs": [],
   "source": [
    "pos_lst = ['top','jng','mid','bot','sup']\n",
    "\n",
    "df_teams = df[df.position == 'team'].reset_index()\n",
    "df_teams['id_side'] = df_teams.gameid + '_' + df_teams.side\n",
    "df_teams.set_index('id_side')\n",
    "\n",
    "df_players = df[df.position != 'team']"
   ]
  },
  {
   "cell_type": "markdown",
   "id": "a385151c",
   "metadata": {},
   "source": [
    "Created pivoted table of kda by position grouped by the gameid+side; to be joined with the teams dataframe"
   ]
  },
  {
   "cell_type": "code",
   "execution_count": 6,
   "id": "cbe61f99",
   "metadata": {},
   "outputs": [
    {
     "data": {
      "text/html": [
       "<div>\n",
       "<style scoped>\n",
       "    .dataframe tbody tr th:only-of-type {\n",
       "        vertical-align: middle;\n",
       "    }\n",
       "\n",
       "    .dataframe tbody tr th {\n",
       "        vertical-align: top;\n",
       "    }\n",
       "\n",
       "    .dataframe thead th {\n",
       "        text-align: right;\n",
       "    }\n",
       "</style>\n",
       "<table border=\"1\" class=\"dataframe\">\n",
       "  <thead>\n",
       "    <tr style=\"text-align: right;\">\n",
       "      <th>position</th>\n",
       "      <th>bot</th>\n",
       "      <th>jng</th>\n",
       "      <th>mid</th>\n",
       "      <th>sup</th>\n",
       "      <th>top</th>\n",
       "    </tr>\n",
       "    <tr>\n",
       "      <th>id_side</th>\n",
       "      <th></th>\n",
       "      <th></th>\n",
       "      <th></th>\n",
       "      <th></th>\n",
       "      <th></th>\n",
       "    </tr>\n",
       "  </thead>\n",
       "  <tbody>\n",
       "    <tr>\n",
       "      <th>0</th>\n",
       "      <td>58.400000</td>\n",
       "      <td>48.666667</td>\n",
       "      <td>41.250</td>\n",
       "      <td>43.300000</td>\n",
       "      <td>25.050000</td>\n",
       "    </tr>\n",
       "    <tr>\n",
       "      <th>6909-9183_Blue</th>\n",
       "      <td>1.000000</td>\n",
       "      <td>1.000000</td>\n",
       "      <td>2.000</td>\n",
       "      <td>0.250000</td>\n",
       "      <td>2.000000</td>\n",
       "    </tr>\n",
       "    <tr>\n",
       "      <th>6909-9183_Red</th>\n",
       "      <td>8.000000</td>\n",
       "      <td>7.000000</td>\n",
       "      <td>7.000</td>\n",
       "      <td>4.000000</td>\n",
       "      <td>7.000000</td>\n",
       "    </tr>\n",
       "    <tr>\n",
       "      <th>6909-9184_Blue</th>\n",
       "      <td>1.500000</td>\n",
       "      <td>1.833333</td>\n",
       "      <td>3.000</td>\n",
       "      <td>1.500000</td>\n",
       "      <td>0.714286</td>\n",
       "    </tr>\n",
       "    <tr>\n",
       "      <th>6909-9184_Red</th>\n",
       "      <td>20.000000</td>\n",
       "      <td>2.000000</td>\n",
       "      <td>8.500</td>\n",
       "      <td>2.500000</td>\n",
       "      <td>7.666667</td>\n",
       "    </tr>\n",
       "    <tr>\n",
       "      <th>...</th>\n",
       "      <td>...</td>\n",
       "      <td>...</td>\n",
       "      <td>...</td>\n",
       "      <td>...</td>\n",
       "      <td>...</td>\n",
       "    </tr>\n",
       "    <tr>\n",
       "      <th>NA1_3991749766_Red</th>\n",
       "      <td>0.500000</td>\n",
       "      <td>0.333333</td>\n",
       "      <td>0.125</td>\n",
       "      <td>0.250000</td>\n",
       "      <td>0.300000</td>\n",
       "    </tr>\n",
       "    <tr>\n",
       "      <th>NA1_3991779940_Blue</th>\n",
       "      <td>1.600000</td>\n",
       "      <td>0.636364</td>\n",
       "      <td>0.375</td>\n",
       "      <td>0.461538</td>\n",
       "      <td>0.181818</td>\n",
       "    </tr>\n",
       "    <tr>\n",
       "      <th>NA1_3991779940_Red</th>\n",
       "      <td>10.500000</td>\n",
       "      <td>28.000000</td>\n",
       "      <td>5.000</td>\n",
       "      <td>4.400000</td>\n",
       "      <td>21.000000</td>\n",
       "    </tr>\n",
       "    <tr>\n",
       "      <th>NA1_3991840024_Blue</th>\n",
       "      <td>1.666667</td>\n",
       "      <td>2.800000</td>\n",
       "      <td>3.200</td>\n",
       "      <td>1.454545</td>\n",
       "      <td>3.000000</td>\n",
       "    </tr>\n",
       "    <tr>\n",
       "      <th>NA1_3991840024_Red</th>\n",
       "      <td>7.250000</td>\n",
       "      <td>3.666667</td>\n",
       "      <td>4.800</td>\n",
       "      <td>7.250000</td>\n",
       "      <td>3.666667</td>\n",
       "    </tr>\n",
       "  </tbody>\n",
       "</table>\n",
       "<p>23029 rows × 5 columns</p>\n",
       "</div>"
      ],
      "text/plain": [
       "position                   bot        jng     mid        sup        top\n",
       "id_side                                                                \n",
       "0                    58.400000  48.666667  41.250  43.300000  25.050000\n",
       "6909-9183_Blue        1.000000   1.000000   2.000   0.250000   2.000000\n",
       "6909-9183_Red         8.000000   7.000000   7.000   4.000000   7.000000\n",
       "6909-9184_Blue        1.500000   1.833333   3.000   1.500000   0.714286\n",
       "6909-9184_Red        20.000000   2.000000   8.500   2.500000   7.666667\n",
       "...                        ...        ...     ...        ...        ...\n",
       "NA1_3991749766_Red    0.500000   0.333333   0.125   0.250000   0.300000\n",
       "NA1_3991779940_Blue   1.600000   0.636364   0.375   0.461538   0.181818\n",
       "NA1_3991779940_Red   10.500000  28.000000   5.000   4.400000  21.000000\n",
       "NA1_3991840024_Blue   1.666667   2.800000   3.200   1.454545   3.000000\n",
       "NA1_3991840024_Red    7.250000   3.666667   4.800   7.250000   3.666667\n",
       "\n",
       "[23029 rows x 5 columns]"
      ]
     },
     "execution_count": 6,
     "metadata": {},
     "output_type": "execute_result"
    }
   ],
   "source": [
    "df_players_piv = df_players[['position','kda']].pivot(values ='kda',columns = 'position')\n",
    "\n",
    "df_players_piv['gameid'] = df_players.gameid\n",
    "df_players_piv['side'] = df_players.side\n",
    "df_players_piv['id_side'] = df_players_piv.gameid + '_' + df_players_piv.side\n",
    "\n",
    "df_players_piv = df_players_piv.fillna(0)\n",
    "df_players_piv.head(10)\n",
    "df_players_piv = df_players_piv.groupby(['id_side']).sum().reset_index()\n",
    "df_players_piv.set_index('id_side')"
   ]
  },
  {
   "cell_type": "markdown",
   "id": "24577286",
   "metadata": {},
   "source": [
    "Joined the position pivot onto the teams dataframe on the gameid+side"
   ]
  },
  {
   "cell_type": "code",
   "execution_count": 7,
   "id": "4a3906bb",
   "metadata": {},
   "outputs": [],
   "source": [
    "df_agg = df_teams.set_index('id_side').join(df_players_piv.set_index('id_side'))"
   ]
  },
  {
   "cell_type": "code",
   "execution_count": 74,
   "id": "c148ff17",
   "metadata": {},
   "outputs": [],
   "source": [
    "col_lst = ['kda','top','jng','mid','bot','sup','side_bool','result','csdiffat15','killsat15','assistsat15','deathsat15','golddiffat15']\n",
    "df_plot = df_agg[col_lst].dropna()"
   ]
  },
  {
   "cell_type": "code",
   "execution_count": null,
   "id": "c57a4727",
   "metadata": {},
   "outputs": [
    {
     "data": {
      "text/plain": [
       "<seaborn.axisgrid.PairGrid at 0x7f5f0f679d90>"
      ]
     },
     "execution_count": 81,
     "metadata": {},
     "output_type": "execute_result"
    }
   ],
   "source": [
    "sns.pairplot(df_plot, hue = 'result')"
   ]
  },
  {
   "cell_type": "code",
   "execution_count": 75,
   "id": "64439c9c",
   "metadata": {},
   "outputs": [],
   "source": [
    "X_train, X_test, y_train, y_test = train_test_split(df_plot.drop(columns = 'result'), df_plot['result'],\n",
    "                                                    test_size = 0.2, random_state=42)\n",
    "\n",
    "train_df = X_train.copy()\n",
    "train_df['result'] = y_train"
   ]
  },
  {
   "cell_type": "code",
   "execution_count": 76,
   "id": "5e546460",
   "metadata": {},
   "outputs": [
    {
     "name": "stderr",
     "output_type": "stream",
     "text": [
      "/home/matt/anaconda3/lib/python3.8/site-packages/sklearn/linear_model/_logistic.py:763: ConvergenceWarning: lbfgs failed to converge (status=1):\n",
      "STOP: TOTAL NO. of ITERATIONS REACHED LIMIT.\n",
      "\n",
      "Increase the number of iterations (max_iter) or scale the data as shown in:\n",
      "    https://scikit-learn.org/stable/modules/preprocessing.html\n",
      "Please also refer to the documentation for alternative solver options:\n",
      "    https://scikit-learn.org/stable/modules/linear_model.html#logistic-regression\n",
      "  n_iter_i = _check_optimize_result(\n"
     ]
    },
    {
     "data": {
      "text/plain": [
       "LogisticRegression()"
      ]
     },
     "execution_count": 76,
     "metadata": {},
     "output_type": "execute_result"
    }
   ],
   "source": [
    "lr = LogisticRegression()\n",
    "lr.fit(X_train, y_train)"
   ]
  },
  {
   "cell_type": "code",
   "execution_count": 77,
   "id": "9d85be29",
   "metadata": {},
   "outputs": [],
   "source": [
    "y_pred = lr.predict(X_test)"
   ]
  },
  {
   "cell_type": "code",
   "execution_count": 78,
   "id": "a4017ae2",
   "metadata": {},
   "outputs": [
    {
     "name": "stdout",
     "output_type": "stream",
     "text": [
      "0.9198292220113852\n",
      "0.8938793483047116\n",
      "0.9543958627174424\n"
     ]
    }
   ],
   "source": [
    "print(accuracy_score(y_test, y_pred))\n",
    "print(precision_score(y_test, y_pred))\n",
    "print(recall_score(y_test, y_pred))"
   ]
  },
  {
   "cell_type": "code",
   "execution_count": 80,
   "id": "3d39a258",
   "metadata": {},
   "outputs": [
    {
     "name": "stdout",
     "output_type": "stream",
     "text": [
      "[[1848  241]\n",
      " [  97 2030]]\n"
     ]
    },
    {
     "data": {
      "text/plain": [
       "<sklearn.metrics._plot.confusion_matrix.ConfusionMatrixDisplay at 0x7f5f1fee3850>"
      ]
     },
     "execution_count": 80,
     "metadata": {},
     "output_type": "execute_result"
    },
    {
     "data": {
      "image/png": "[encoded data removed]",
      "text/plain": [
       "<Figure size 432x288 with 2 Axes>"
      ]
     },
     "metadata": {},
     "output_type": "display_data"
    }
   ],
   "source": [
    "print(confusion_matrix(y_test,y_pred))\n",
    "plot_confusion_matrix(lr, X_test, y_test)"
   ]
  },
  {
   "cell_type": "code",
   "execution_count": 70,
   "id": "93672ad8",
   "metadata": {},
   "outputs": [
    {
     "data": {
      "image/png": "[encoded data removed]",
      "text/plain": [
       "<Figure size 432x288 with 1 Axes>"
      ]
     },
     "metadata": {},
     "output_type": "display_data"
    }
   ],
   "source": [
    "def viz_SF_LR(df, feat, model, hard_classification=True, decision_boundary=False):\n",
    "    model.fit(df[[feat]], df['result'])\n",
    "    \n",
    "    # extract elevation feature and hard or soft predictions\n",
    "    feature = df[[feat]].values\n",
    "    if hard_classification:\n",
    "        predictions = model.predict(feature)\n",
    "    else:\n",
    "        predictions = model.predict_proba(feature)[:, 1] \n",
    "\n",
    "    # color filter true class labels and plot predictions\n",
    "    sf_mask = (df['result'] == 1).values\n",
    "    plt.plot(feature[sf_mask], predictions[sf_mask], 'bo', label='Actual win', alpha=0.2)\n",
    "    plt.plot(feature[~sf_mask], predictions[~sf_mask], 'ro', label='Actual loss', alpha=0.2)\n",
    "    \n",
    "    # optionally calculate and display decision boundary as dotted line\n",
    "    if decision_boundary:\n",
    "        b_0, b_1 = model.intercept_, model.coef_[0]\n",
    "        plt.gca().axvline(-b_0/b_1,c='k',ls='--',lw=1)\n",
    "    \n",
    "    # plot formatting\n",
    "    plt.ylim(-0.05, 1.05)\n",
    "    plt.xlabel(feat)\n",
    "    plt.ylabel('Prediction (1=Win)')\n",
    "    type_str = 'hard' if hard_classification else 'soft'\n",
    "    plt.title('Logistic regression ' + type_str + ' prediction for SF vs NY')\n",
    "    plt.legend(loc='lower right')\n",
    "\n",
    "lr1 = LogisticRegression()\n",
    "\n",
    "viz_SF_LR(train_df, 'killsat15', lr1, hard_classification=False, decision_boundary = True)\n",
    "\n"
   ]
  },
  {
   "cell_type": "code",
   "execution_count": 59,
   "id": "162773f4",
   "metadata": {},
   "outputs": [
    {
     "data": {
      "image/png": "[encoded data removed]",
      "text/plain": [
       "<Figure size 432x288 with 1 Axes>"
      ]
     },
     "metadata": {},
     "output_type": "display_data"
    }
   ],
   "source": [
    "fift_lst = ['csdiffat15','assistsat15','killsat15','deathsat15']\n",
    "for feat in fift_lst:\n",
    "    viz_SF_LR(train_df, feat, lr1, hard_classification=False, decision_boundary = True)"
   ]
  },
  {
   "cell_type": "code",
   "execution_count": null,
   "id": "91c479a7",
   "metadata": {},
   "outputs": [],
   "source": []
  }
 ],
 "metadata": {
  "kernelspec": {
   "display_name": "Python 3",
   "language": "python",
   "name": "python3"
  },
  "language_info": {
   "codemirror_mode": {
    "name": "ipython",
    "version": 3
   },
   "file_extension": ".py",
   "mimetype": "text/x-python",
   "name": "python",
   "nbconvert_exporter": "python",
   "pygments_lexer": "ipython3",
   "version": "3.8.8"
  }
 },
 "nbformat": 4,
 "nbformat_minor": 5
}
